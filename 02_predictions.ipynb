{
 "cells": [
  {
   "cell_type": "code",
   "execution_count": 2,
   "id": "2bae4d25-1fc7-4358-bb2a-015bce477e01",
   "metadata": {},
   "outputs": [],
   "source": [
    "import cv2\n",
    "from yolo_predictions import YOLO_Pred"
   ]
  },
  {
   "cell_type": "code",
   "execution_count": 3,
   "id": "0ad7a8e9-a26e-4219-a44b-64445a82954a",
   "metadata": {},
   "outputs": [],
   "source": [
    "yolo = YOLO_Pred('./Model7/weights/runs/best.onnx','data.yaml')"
   ]
  },
  {
   "cell_type": "code",
   "execution_count": 4,
   "id": "4259fb07-30ef-4fcc-9045-a9cc280263c1",
   "metadata": {},
   "outputs": [],
   "source": [
    "img = cv2.imread('./street_image.jpg')\n",
    "\n"
   ]
  },
  {
   "cell_type": "code",
   "execution_count": 9,
   "id": "f50f3054-8487-4974-ba32-d9f6e324a9df",
   "metadata": {},
   "outputs": [],
   "source": [
    "#predictions\n",
    "img_pred = yolo.predictions(img)"
   ]
  },
  {
   "cell_type": "code",
   "execution_count": 6,
   "id": "6625845c-434a-4ff5-babf-2a31494a919d",
   "metadata": {},
   "outputs": [],
   "source": [
    "cv2.imshow('Prediction Image',img_pred)\n",
    "cv2.waitKey(0)\n",
    "cv2.destroyAllWindows()"
   ]
  },
  {
   "cell_type": "code",
   "execution_count": 10,
   "id": "95c24f01-df7c-428a-8b38-189faaddac5e",
   "metadata": {},
   "outputs": [],
   "source": [
    "# Real Time Object Detection"
   ]
  },
  {
   "cell_type": "code",
   "execution_count": null,
   "id": "2bd5e31b-3ea1-4e9e-bcf8-2dae095f35c3",
   "metadata": {},
   "outputs": [],
   "source": []
  },
  {
   "cell_type": "code",
   "execution_count": null,
   "id": "9ea2a52d-8b9d-421c-8019-2dd4535ebe01",
   "metadata": {},
   "outputs": [],
   "source": []
  }
 ],
 "metadata": {
  "kernelspec": {
   "display_name": "Python 3 (ipykernel)",
   "language": "python",
   "name": "python3"
  },
  "language_info": {
   "codemirror_mode": {
    "name": "ipython",
    "version": 3
   },
   "file_extension": ".py",
   "mimetype": "text/x-python",
   "name": "python",
   "nbconvert_exporter": "python",
   "pygments_lexer": "ipython3",
   "version": "3.8.3"
  }
 },
 "nbformat": 4,
 "nbformat_minor": 5
}
